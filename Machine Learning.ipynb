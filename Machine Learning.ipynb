{
 "cells": [
  {
   "cell_type": "code",
   "execution_count": 13,
   "metadata": {},
   "outputs": [],
   "source": [
    "import pandas as pd\n",
    "\n",
    "from sklearn import metrics\n",
    "from sklearn import svm\n",
    "from sklearn.ensemble import RandomForestClassifier\n",
    "from sklearn.linear_model import LogisticRegression\n",
    "from sklearn.model_selection import train_test_split\n",
    "from sklearn.naive_bayes import MultinomialNB\n",
    "\n",
    "from data_cleanup import feature_extraction\n",
    "\n",
    "\n",
    "import keras\n",
    "from keras.models import Sequential\n",
    "from keras.layers import Input, Dense\n",
    "from keras.optimizers import Adam"
   ]
  },
  {
   "cell_type": "code",
   "execution_count": 7,
   "metadata": {},
   "outputs": [
    {
     "name": "stdout",
     "output_type": "stream",
     "text": [
      "   song_id  \\tClassical\\t  \\tCountry\\t  \\tJazz\\t  \\tBlues\\t  \\tElectronic\\t  \\\n",
      "0        2              0            0         0          1               0   \n",
      "1        3              0            0         0          1               0   \n",
      "2        4              0            0         0          1               0   \n",
      "3        5              0            0         0          1               0   \n",
      "4        7              0            0         0          1               0   \n",
      "\n",
      "   \\tPop\\t  \\tRock\\t  \\tFolk\\t  \n",
      "0        0         0         0  \n",
      "1        0         0         0  \n",
      "2        0         0         0  \n",
      "3        0         0         0  \n",
      "4        0         0         0  \n",
      "   song_id  Bird of Youth  Blues  Classical  Country  Electronic  \\\n",
      "0     1001              0      1          0        1           0   \n",
      "1     1002              0      1          0        0           0   \n",
      "2     1003              0      1          0        0           0   \n",
      "3     1004              0      1          0        1           0   \n",
      "4     1005              0      1          0        0           0   \n",
      "\n",
      "   Experimental  Folk  Hip-Hop  Instrumental  International  Jazz  Pop  Rock  \\\n",
      "0             1     1        0             0              0     0    1     1   \n",
      "1             0     0        0             0              0     0    0     1   \n",
      "2             1     1        0             0              0     0    0     0   \n",
      "3             0     1        0             0              0     0    1     1   \n",
      "4             0     0        0             0              0     0    0     1   \n",
      "\n",
      "   SoulRB  Spoken  \n",
      "0       1       0  \n",
      "1       1       0  \n",
      "2       1       0  \n",
      "3       1       0  \n",
      "4       1       0  \n",
      "   song_id  Classical  rock  jazz  pop  Rock  World/Folk  Singer/Songwriter  \\\n",
      "0     2001          0     0     0    0     1           0                  0   \n",
      "1     2002          0     0     0    0     0           0                  1   \n",
      "2     2003          1     0     0    0     0           0                  0   \n",
      "3     2004          0     0     0    0     0           1                  0   \n",
      "4     2005          0     0     0    0     1           0                  0   \n",
      "\n",
      "   Electronic/Fusion  Jazz   ...    electronic  rap     reggae  groove  blues  \\\n",
      "0                  0     0   ...             0    0  0       0       0      0   \n",
      "1                  0     0   ...             0    0  0       0       0      0   \n",
      "2                  0     0   ...             0    0  0       0       0      0   \n",
      "3                  0     0   ...             0    0  0       0       0      0   \n",
      "4                  0     0   ...             0    0  0       0       0      0   \n",
      "\n",
      "   acoustic  Rap  world  hiphop  \n",
      "0         0    0      0       0  \n",
      "1         0    0      0       0  \n",
      "2         0    0      0       0  \n",
      "3         0    0      0       0  \n",
      "4         0    0      0       0  \n",
      "\n",
      "[5 rows x 21 columns]\n",
      "[   2    3    4 ... 2056 2057 2058]\n",
      "1712\n",
      "=====\n",
      "(1802, 2)\n",
      "(1802, 131)\n",
      "[1712]\n",
      "(1802, 41)\n"
     ]
    }
   ],
   "source": [
    "# Get X and y on which we will be learning\n",
    "data = feature_extraction.get_data()\n",
    "y = data.Feeling\n",
    "X = data.drop(\"Feeling\", axis=1)\n",
    "X_train, X_test, y_train, y_test = train_test_split(X, y, random_state=1)"
   ]
  },
  {
   "cell_type": "code",
   "execution_count": 9,
   "metadata": {},
   "outputs": [
    {
     "name": "stdout",
     "output_type": "stream",
     "text": [
      "accuracy of Logistic Regrssion = 0.5210643015521065\n"
     ]
    },
    {
     "name": "stderr",
     "output_type": "stream",
     "text": [
      "c:\\users\\sache\\onedrive\\documents\\winter-2019\\cmps_240\\py36\\lib\\site-packages\\sklearn\\linear_model\\logistic.py:433: FutureWarning: Default solver will be changed to 'lbfgs' in 0.22. Specify a solver to silence this warning.\n",
      "  FutureWarning)\n",
      "c:\\users\\sache\\onedrive\\documents\\winter-2019\\cmps_240\\py36\\lib\\site-packages\\sklearn\\linear_model\\logistic.py:460: FutureWarning: Default multi_class will be changed to 'auto' in 0.22. Specify the multi_class option to silence this warning.\n",
      "  \"this warning.\", FutureWarning)\n"
     ]
    }
   ],
   "source": [
    "# We will use logistic regression as a base line\n",
    "model = LogisticRegression()\n",
    "\n",
    "model.fit(X_train, y_train)\n",
    "\n",
    "y_pred = model.predict(X_test)\n",
    "accuracy = metrics.accuracy_score(y_test, y_pred)\n",
    "print(\"accuracy of Logistic Regrssion =\", accuracy)"
   ]
  },
  {
   "cell_type": "code",
   "execution_count": 10,
   "metadata": {},
   "outputs": [
    {
     "name": "stdout",
     "output_type": "stream",
     "text": [
      "accuracy of multiclass SVM = 0.5144124168514412\n"
     ]
    }
   ],
   "source": [
    "model = svm.SVC(gamma='scale', decision_function_shape='ovo')\n",
    "model.fit(X_train, y_train)\n",
    "y_pred = model.predict(X_test)\n",
    "accuracy = metrics.accuracy_score(y_test, y_pred)\n",
    "print(\"accuracy of multiclass SVM =\", accuracy)"
   ]
  },
  {
   "cell_type": "code",
   "execution_count": 11,
   "metadata": {},
   "outputs": [
    {
     "name": "stdout",
     "output_type": "stream",
     "text": [
      "accuracy of Linear SVM = 0.516629711751663\n"
     ]
    }
   ],
   "source": [
    "model = svm.LinearSVC()\n",
    "model.fit(X_train, y_train)\n",
    "y_pred = model.predict(X_test)\n",
    "accuracy = metrics.accuracy_score(y_test, y_pred)\n",
    "print(\"accuracy of Linear SVM =\", accuracy)"
   ]
  },
  {
   "cell_type": "code",
   "execution_count": 12,
   "metadata": {},
   "outputs": [
    {
     "name": "stdout",
     "output_type": "stream",
     "text": [
      "accuracy of Random Forest = 0.5099778270509978\n"
     ]
    }
   ],
   "source": [
    "model =  RandomForestClassifier(n_estimators=100, oob_score=True, random_state=1)\n",
    "model.fit(X_train, y_train)\n",
    "y_pred = model.predict(X_test)\n",
    "accuracy = metrics.accuracy_score(y_test, y_pred)\n",
    "print(\"accuracy of Random Forest =\", accuracy)"
   ]
  },
  {
   "cell_type": "code",
   "execution_count": 15,
   "metadata": {},
   "outputs": [
    {
     "name": "stdout",
     "output_type": "stream",
     "text": [
      "accuracy of Multinomial NB = 0.5232815964523282\n"
     ]
    }
   ],
   "source": [
    "model = MultinomialNB()\n",
    "model.fit(X_train, y_train)\n",
    "y_pred = model.predict(X_test)\n",
    "accuracy = metrics.accuracy_score(y_test, y_pred)\n",
    "print(\"accuracy of Multinomial NB =\", accuracy)"
   ]
  },
  {
   "cell_type": "code",
   "execution_count": 16,
   "metadata": {},
   "outputs": [
    {
     "name": "stdout",
     "output_type": "stream",
     "text": [
      "accuracy of Gausian NB = 0.18625277161862527\n"
     ]
    }
   ],
   "source": [
    "from sklearn.naive_bayes import GaussianNB\n",
    "model = GaussianNB()\n",
    "model.fit(X_train, y_train)\n",
    "y_pred = model.predict(X_test)\n",
    "accuracy = metrics.accuracy_score(y_test, y_pred)\n",
    "print(\"accuracy of Gausian NB =\", accuracy)"
   ]
  },
  {
   "cell_type": "code",
   "execution_count": 17,
   "metadata": {},
   "outputs": [
    {
     "name": "stdout",
     "output_type": "stream",
     "text": [
      "accuracy of ComplementNB = 0.49445676274944567\n"
     ]
    }
   ],
   "source": [
    "from sklearn.naive_bayes import ComplementNB\n",
    "model = ComplementNB()\n",
    "model.fit(X_train, y_train)\n",
    "y_pred = model.predict(X_test)\n",
    "accuracy = metrics.accuracy_score(y_test, y_pred)\n",
    "print(\"accuracy of ComplementNB =\", accuracy)"
   ]
  }
 ],
 "metadata": {
  "kernelspec": {
   "display_name": "Python 3",
   "language": "python",
   "name": "python3"
  },
  "language_info": {
   "codemirror_mode": {
    "name": "ipython",
    "version": 3
   },
   "file_extension": ".py",
   "mimetype": "text/x-python",
   "name": "python",
   "nbconvert_exporter": "python",
   "pygments_lexer": "ipython3",
   "version": "3.6.8"
  }
 },
 "nbformat": 4,
 "nbformat_minor": 2
}
